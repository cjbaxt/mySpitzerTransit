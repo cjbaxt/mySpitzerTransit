{
 "cells": [
  {
   "cell_type": "code",
   "execution_count": 106,
   "metadata": {},
   "outputs": [],
   "source": [
    "# imports\n",
    "from astropy.io import fits\n",
    "import numpy as np\n",
    "import glob, os, sys, time\n",
    "import matplotlib.pyplot as plt\n",
    "import matplotlib\n",
    "from scipy import stats\n",
    "from scipy.ndimage.measurements import center_of_mass\n",
    "from scipy.optimize import minimize_scalar\n",
    "from scipy.optimize import leastsq\n",
    "from scipy.optimize import least_squares\n",
    "from scipy.interpolate import UnivariateSpline\n",
    "from photutils import CircularAperture\n",
    "from photutils import aperture_photometry\n",
    "from photutils import CircularAnnulus\n",
    "import batman\n",
    "from tabulate import tabulate\n",
    "from IPython.display import HTML\n",
    "import emcee\n",
    "import corner\n",
    "\n",
    "# Custom imports\n",
    "sys.path.insert(0, '{}/PhD/code/mySpitzerTransit/'.format(os.getenv('HOME')))\n",
    "from timeseries_routines import *\n",
    "from transitFitting_routines import *\n",
    "sys.path.insert(1, '{}/PhD/code/'.format(os.getenv('HOME')))\n",
    "from ProgressBar import *"
   ]
  },
  {
   "cell_type": "code",
   "execution_count": 50,
   "metadata": {},
   "outputs": [
    {
     "name": "stdout",
     "output_type": "stream",
     "text": [
      "56.51551312649165\n",
      "\n",
      "Reading data from '/Users/cbaxter/PhD/SpitzerData/Kepler45b/r47041792/ch1/bcd/' ... \n",
      "\t Timeseries created with shape (8064, 32, 32)\n",
      "\t Midtimes created with shape (8064,)\n"
     ]
    }
   ],
   "source": [
    "planet='Kepler45b'\n",
    "AOR = 'r47041792'\n",
    "channel = 'ch1'\n",
    "\n",
    "path = \"{3}/PhD/SpitzerData/{0}/{1}/{2}/bcd/\".format(planet,AOR,channel, os.getenv('HOME'))\n",
    "\n",
    "# Read in the data\n",
    "data_info = read_files(path)\n",
    "exptime = data_info.exptime()\n",
    "readnoise = data_info.readnoise()\n",
    "gain = data_info.gain()\n",
    "fluxconv = data_info.fluxconv()\n",
    "framtime = data_info.framtime()\n",
    "MJysr2lelectrons = exptime*gain/fluxconv\n",
    "print MJysr2lelectrons\n",
    "#Create timeseries, midtimes and maskseries\n",
    "timeseries = data_info.create_timeseries()\n",
    "midtimes = data_info.midtimes()\n",
    "\n",
    "# Change from image units to electrons\n",
    "timeseries = timeseries*MJysr2lelectrons"
   ]
  },
  {
   "cell_type": "code",
   "execution_count": 30,
   "metadata": {},
   "outputs": [
    {
     "data": {
      "text/plain": [
       "<matplotlib.colorbar.Colorbar at 0x11e39fad0>"
      ]
     },
     "execution_count": 30,
     "metadata": {},
     "output_type": "execute_result"
    },
    {
     "data": {
      "image/png": "[encoded data removed]",
      "text/plain": [
       "<matplotlib.figure.Figure at 0x119d94110>"
      ]
     },
     "metadata": {},
     "output_type": "display_data"
    }
   ],
   "source": [
    "plt.imshow(timeseries[0]) # plot the first frame\n",
    "plt.colorbar()"
   ]
  },
  {
   "cell_type": "markdown",
   "metadata": {},
   "source": [
    "    for i in range(len(timeseries)):\n",
    "        frame = timeseries[i]\n",
    "        array = frame.flatten()\n",
    "        iters = 5\n",
    "\n",
    "        for j in range(iters):\n",
    "            std_dev = np.std(array)\n",
    "            median = np.median(array)\n",
    "\n",
    "            array = array[array<median+std_dev] # This is a bit arbitrary...\n",
    "            array = array[array>median-std_dev]\n",
    "\n",
    "            median = np.median(array)\n",
    "\n",
    "        newtimeseries[i] = timeseries[i] - median\n",
    "        bkg.append(median)}"
   ]
  },
  {
   "cell_type": "code",
   "execution_count": 51,
   "metadata": {},
   "outputs": [
    {
     "name": "stdout",
     "output_type": "stream",
     "text": [
      "-108.75160690708206\n",
      "29.68996525948827\n",
      "28.055424064326687\n",
      "35.652537880763234\n",
      "45.17275279916841\n",
      "30.95250496147356\n",
      "27.638243081177052\n",
      "57.47771634122353\n",
      "36.554968886273\n",
      "29.45161751175837\n",
      "147.34471414424922\n",
      "43.88733028512012\n",
      "30.574701077044722\n",
      "42.29436250745823\n",
      "48.805745336491626\n",
      "36.54539367748615\n",
      "29.877167749518712\n",
      "58.08400138181263\n",
      "40.81046621099577\n",
      "33.8515244804874\n"
     ]
    },
    {
     "data": {
      "image/png": "[encoded data removed]",
      "text/plain": [
       "<matplotlib.figure.Figure at 0x10e9d1910>"
      ]
     },
     "metadata": {},
     "output_type": "display_data"
    }
   ],
   "source": [
    "newtimeseries = np.ndarray(timeseries.shape)\n",
    "bkg = []\n",
    "\n",
    "# Don't do all the frames, but maybe 20 frames throughout the whole timeseries \n",
    "Nframes = 20 \n",
    "\n",
    "cmap = matplotlib.cm.get_cmap('Spectral')\n",
    "\n",
    "colours = [cmap(float(i)/float(Nframes)) for i in range(Nframes)]\n",
    "\n",
    "fig, ax = plt.subplots(1,1,figsize=(20,5))\n",
    "\n",
    "for i in range(Nframes): # len(timeseries)\n",
    "    # frame\n",
    "    iframe =  i*len(timeseries)/Nframes\n",
    "    \n",
    "    frame = timeseries[iframe]\n",
    "    array = frame.flatten()\n",
    "    bins = 100\n",
    "    \n",
    "    ax.hist(array + 250*i, bins = bins, color = colours[i])\n",
    "    ax.axvline(250*i, c = 'k')\n",
    "    iters = 1\n",
    "\n",
    "    for j in range(iters):\n",
    "        std_dev = np.std(array)\n",
    "        median = np.median(array)\n",
    "\n",
    "        array = array[array<median+std_dev] # This is a bit arbitrary...\n",
    "        array = array[array>median-std_dev]\n",
    "\n",
    "        median = np.median(array)\n",
    "    print median\n",
    "#     newtimeseries[iframe] = timeseries[iframe] - median\n",
    "    bkg.append(median)"
   ]
  },
  {
   "cell_type": "code",
   "execution_count": 92,
   "metadata": {},
   "outputs": [
    {
     "name": "stdout",
     "output_type": "stream",
     "text": [
      "682.440318158\n",
      "26.123558680962223\n"
     ]
    }
   ],
   "source": [
    "Flux = np.linspace(1000,120000,1000)\n",
    "Error = np.sqrt(Flux)\n",
    "Background = 0.62065*56 * np.pi*2.5**2 # multiply by the number of pixels in the aperture\n",
    "BackgroundError = np.sqrt(Background)\n",
    "print Background\n",
    "print BackgroundError\n",
    "#bkgK45 = np.mean(bkg)\n",
    "#print bkgK45 # Just checking that the Kepler45 background and the average backgrounds are similar order of magnitude \n",
    "\n",
    "combinedError = [np.sqrt(f + Background) for f in Flux]"
   ]
  },
  {
   "cell_type": "code",
   "execution_count": 119,
   "metadata": {},
   "outputs": [
    {
     "name": "stdout",
     "output_type": "stream",
     "text": [
      "5407.407407407408\n"
     ]
    },
    {
     "data": {
      "text/plain": [
       "<matplotlib.text.Text at 0x10d9efed0>"
      ]
     },
     "execution_count": 119,
     "metadata": {},
     "output_type": "execute_result"
    },
    {
     "data": {
      "image/png": "[encoded data removed]",
      "text/plain": [
       "<matplotlib.figure.Figure at 0x10e151990>"
      ]
     },
     "metadata": {},
     "output_type": "display_data"
    }
   ],
   "source": [
    "fig, ax = plt.subplots(1,2,figsize=(15,5))\n",
    "\n",
    "ax[0].plot(Flux, Error, label='Flux')\n",
    "ax[0].plot(Flux, combinedError, label = 'Flux + bkg')\n",
    "ax[0].axhline(BackgroundError, linestyle = '--', label = 'bkg error')\n",
    "\n",
    "#print (combinedError-Error)\n",
    "ax[0].set_xlabel('Flux [e-]')\n",
    "ax[0].set_ylabel('Error ( sqrt(F) )')\n",
    "ax[0].legend()\n",
    "\n",
    "ax[1].plot(Flux,Error/BackgroundError)\n",
    "ind = np.where(combinedError/BackgroundError < 3)\n",
    "criticalFlux = Flux[ind[0][-1]]\n",
    "ax[1].axhline(3, linestyle='-.')\n",
    "ax[1].axvline(criticalFlux, linestyle='-.')\n",
    "print criticalFlux\n",
    "ax[1].set_xlabel('Flux [e-]')\n",
    "ax[1].set_ylabel('combinedError/BackgroundError')\n"
   ]
  },
  {
   "cell_type": "code",
   "execution_count": 128,
   "metadata": {},
   "outputs": [
    {
     "data": {
      "text/plain": [
       "[<matplotlib.lines.Line2D at 0x126d31fd0>]"
      ]
     },
     "execution_count": 128,
     "metadata": {},
     "output_type": "execute_result"
    },
    {
     "data": {
      "image/png": "[encoded data removed]",
      "text/plain": [
       "<matplotlib.figure.Figure at 0x10f3ddcd0>"
      ]
     },
     "metadata": {},
     "output_type": "display_data"
    }
   ],
   "source": [
    "plt.plot(Flux, np.array(combinedError)/Error)"
   ]
  },
  {
   "cell_type": "code",
   "execution_count": 159,
   "metadata": {},
   "outputs": [
    {
     "name": "stdout",
     "output_type": "stream",
     "text": [
      "21.7850658106\n",
      "0.9734375\n",
      "Readout noise limit: 22.37952186 e-\n"
     ]
    }
   ],
   "source": [
    "# Ingalls et al background calculation \n",
    "#sigma_int = \n",
    "sigma_rn = 9.4\n",
    "FN = 8.\n",
    "WT = 184.\n",
    "nmax = 2.*FN + WT\n",
    "deltat = 0.01\n",
    "texp = (FN + WT)*deltat\n",
    "tint = 2\n",
    "\n",
    "sigma_int = 1\n",
    "A =  2.*sigma_rn**2/(sigma_int**2*FN)\n",
    "B = (1. - \n",
    "    (2.*FN/(3.*nmax)) + \n",
    "    (1/(6.*FN*nmax))  )\n",
    "\n",
    "print (A/B)*(texp/tint)\n",
    "print B\n",
    "# The limit for where readout noise becomes important (electron counts)\n",
    "print \"Readout noise limit: {} e-\".format((A/B)*(texp/tint)/B)\n",
    "# Readout noise is insignificant for nearly all reasonable planets "
   ]
  },
  {
   "cell_type": "code",
   "execution_count": 163,
   "metadata": {},
   "outputs": [
    {
     "name": "stdout",
     "output_type": "stream",
     "text": [
      "63.47250388947958\n"
     ]
    }
   ],
   "source": [
    "Fap_bg = 3336 \n",
    "Fap = 3436 #  estimated (not actually measured)\n",
    "Fbg = 680 \n",
    "sigma_ap = np.sqrt(Fap)\n",
    "sigma_bg = np.sqrt(Fbg)\n",
    "sigma_int = np.sqrt(sigma_ap**2 + sigma_bg**2)\n",
    "var_e = sigma_int**2 * ( (2.*sigma_rn**2/(sigma_int**2*FN) + \n",
    "                          1. - \n",
    "                         (2.*FN/(3.*nmax)) + \n",
    "                         (1/(6*FN*nmax))  ))\n",
    "print np.sqrt(var_e) # This is a useful number for my paper although i didn't measure the "
   ]
  },
  {
   "cell_type": "code",
   "execution_count": null,
   "metadata": {},
   "outputs": [],
   "source": [
    "# Calculate the rms of the centroids and compare is to the flux... "
   ]
  }
 ],
 "metadata": {
  "kernelspec": {
   "display_name": "Python 2",
   "language": "python",
   "name": "python2"
  },
  "language_info": {
   "codemirror_mode": {
    "name": "ipython",
    "version": 2
   },
   "file_extension": ".py",
   "mimetype": "text/x-python",
   "name": "python",
   "nbconvert_exporter": "python",
   "pygments_lexer": "ipython2",
   "version": "2.7.13"
  }
 },
 "nbformat": 4,
 "nbformat_minor": 2
}
